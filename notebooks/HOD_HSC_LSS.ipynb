{
 "cells": [
  {
   "cell_type": "code",
   "execution_count": 2,
   "metadata": {},
   "outputs": [
    {
     "name": "stdout",
     "output_type": "stream",
     "text": [
      "Populating the interactive namespace from numpy and matplotlib\n"
     ]
    }
   ],
   "source": [
    "%pylab inline"
   ]
  },
  {
   "cell_type": "code",
   "execution_count": 3,
   "metadata": {},
   "outputs": [],
   "source": [
    "%matplotlib inline"
   ]
  },
  {
   "cell_type": "code",
   "execution_count": 4,
   "metadata": {},
   "outputs": [],
   "source": [
    "import GCRCatalogs"
   ]
  },
  {
   "cell_type": "markdown",
   "metadata": {},
   "source": [
    "Bunch of plotting options below"
   ]
  },
  {
   "cell_type": "code",
   "execution_count": 5,
   "metadata": {},
   "outputs": [],
   "source": [
    "from matplotlib import rc\n",
    "rc('font',**{'family':'sans-serif','sans-serif':['Helvetica']})\n",
    "## for Palatino and other serif fonts use:\n",
    "rc('font',**{'family':'serif','serif':['Palatino']})\n",
    "rc('text', usetex=False)\n",
    "rcParams.update({'font.size': 14})"
   ]
  },
  {
   "cell_type": "markdown",
   "metadata": {},
   "source": [
    "Load the relevant catalog"
   ]
  },
  {
   "cell_type": "code",
   "execution_count": 6,
   "metadata": {},
   "outputs": [
    {
     "name": "stderr",
     "output_type": "stream",
     "text": [
      "/global/common/software/lsst/common/miniconda/current/lib/python3.6/site-packages/astropy/utils/introspection.py:147: UserWarning: Module GCRCatalogs was already imported from /global/common/software/lsst/common/miniconda/current/lib/python3.6/site-packages/GCRCatalogs/__init__.py, but /global/u2/j/jsanch87 is being added to sys.path\n",
      "  from pkg_resources import parse_version\n"
     ]
    }
   ],
   "source": [
    "gc = GCRCatalogs.load_catalog('cosmoDC2_v1.1.4_image')"
   ]
  },
  {
   "cell_type": "markdown",
   "metadata": {},
   "source": [
    "We are going to query all halos in the simulation (by querying the centrals in the $z$ range that we care about) -- \"provided you do not make any cuts on brightness or galaxy mass, there are no empty halos in the mock -- AP Hearin\""
   ]
  },
  {
   "cell_type": "code",
   "execution_count": 7,
   "metadata": {},
   "outputs": [],
   "source": [
    "halo_all = gc.get_quantities(['halo_mass', 'mag_i', 'redshift', 'halo_id'], filters=['isCentral', 'redshift < 1.5'])"
   ]
  },
  {
   "cell_type": "markdown",
   "metadata": {},
   "source": [
    "Now we query all galaxies within our sample ( $z < 1.5$ and $i < 24.5$)"
   ]
  },
  {
   "cell_type": "code",
   "execution_count": 8,
   "metadata": {},
   "outputs": [],
   "source": [
    "galaxies = gc.get_quantities(['halo_mass', 'mag_i', 'redshift', 'halo_id', 'isCentral'], filters=['redshift < 1.5', 'mag_i < 24.5'])"
   ]
  },
  {
   "cell_type": "code",
   "execution_count": 9,
   "metadata": {},
   "outputs": [],
   "source": [
    "from scipy.stats import binned_statistic, binned_statistic_2d"
   ]
  },
  {
   "cell_type": "code",
   "execution_count": 10,
   "metadata": {},
   "outputs": [],
   "source": [
    "z_edges = np.array([0.15, 0.50, 0.75, 1.0, 1.5])\n",
    "m_edges = np.linspace(10.4,15.6,25)"
   ]
  },
  {
   "cell_type": "code",
   "execution_count": 12,
   "metadata": {},
   "outputs": [
    {
     "data": {
      "text/plain": [
       "(688998610, 40827925)"
      ]
     },
     "execution_count": 12,
     "metadata": {},
     "output_type": "execute_result"
    }
   ],
   "source": [
    "len(halo_all['halo_id']), len(galaxies['halo_id'])"
   ]
  },
  {
   "cell_type": "code",
   "execution_count": 13,
   "metadata": {},
   "outputs": [
    {
     "data": {
      "text/plain": [
       "5.133439764380455"
      ]
     },
     "execution_count": 13,
     "metadata": {},
     "output_type": "execute_result"
    }
   ],
   "source": [
    "sys.getsizeof(halo_all['mag_i'])/1024.**3 # To get the size in GB"
   ]
  },
  {
   "cell_type": "code",
   "execution_count": 14,
   "metadata": {},
   "outputs": [],
   "source": [
    "nh, me, ze = np.histogram2d(np.log10(halo_all['halo_mass']), halo_all['redshift'], bins=(m_edges, z_edges))"
   ]
  },
  {
   "cell_type": "code",
   "execution_count": 15,
   "metadata": {},
   "outputs": [
    {
     "data": {
      "text/plain": [
       "(array([[3.3808610e+06, 6.2147830e+06, 9.0945050e+06, 2.4068276e+07],\n",
       "        [3.0362500e+06, 5.5475540e+06, 8.2349850e+06, 2.2100985e+07],\n",
       "        [1.6676620e+06, 3.1116770e+06, 4.6961830e+06, 1.2738350e+07],\n",
       "        [9.7304500e+05, 1.8202830e+06, 2.7456580e+06, 7.3509100e+06],\n",
       "        [6.1113800e+05, 1.1330440e+06, 1.6932430e+06, 4.4315260e+06],\n",
       "        [3.8335900e+05, 7.0278800e+05, 1.0417090e+06, 2.6627760e+06],\n",
       "        [2.3892100e+05, 4.3251200e+05, 6.3104600e+05, 1.5790960e+06],\n",
       "        [1.5085700e+05, 2.6861000e+05, 3.8920300e+05, 9.4619700e+05],\n",
       "        [9.4244000e+04, 1.6658900e+05, 2.3725400e+05, 5.5695800e+05],\n",
       "        [5.8429000e+04, 1.0070600e+05, 1.4131200e+05, 3.1625300e+05],\n",
       "        [3.5945000e+04, 6.0721000e+04, 8.2405000e+04, 1.7584400e+05],\n",
       "        [2.1644000e+04, 3.5417000e+04, 4.6891000e+04, 9.3795000e+04],\n",
       "        [1.2900000e+04, 2.0162000e+04, 2.5843000e+04, 4.7465000e+04],\n",
       "        [7.4100000e+03, 1.1276000e+04, 1.3576000e+04, 2.2575000e+04],\n",
       "        [4.2220000e+03, 5.8330000e+03, 6.5050000e+03, 9.6340000e+03],\n",
       "        [2.1720000e+03, 2.8580000e+03, 2.9830000e+03, 3.5960000e+03],\n",
       "        [1.0940000e+03, 1.2630000e+03, 1.1840000e+03, 1.1580000e+03],\n",
       "        [5.1700000e+02, 4.6700000e+02, 3.7000000e+02, 3.0800000e+02],\n",
       "        [1.8400000e+02, 1.6600000e+02, 1.1400000e+02, 6.2000000e+01],\n",
       "        [7.2000000e+01, 4.1000000e+01, 2.3000000e+01, 1.0000000e+01],\n",
       "        [1.8000000e+01, 3.0000000e+00, 3.0000000e+00, 1.0000000e+00],\n",
       "        [0.0000000e+00, 2.0000000e+00, 2.0000000e+00, 0.0000000e+00],\n",
       "        [0.0000000e+00, 0.0000000e+00, 0.0000000e+00, 0.0000000e+00],\n",
       "        [0.0000000e+00, 0.0000000e+00, 0.0000000e+00, 0.0000000e+00]]),\n",
       " array([10.4       , 10.61666667, 10.83333333, 11.05      , 11.26666667,\n",
       "        11.48333333, 11.7       , 11.91666667, 12.13333333, 12.35      ,\n",
       "        12.56666667, 12.78333333, 13.        , 13.21666667, 13.43333333,\n",
       "        13.65      , 13.86666667, 14.08333333, 14.3       , 14.51666667,\n",
       "        14.73333333, 14.95      , 15.16666667, 15.38333333, 15.6       ]),\n",
       " array([0.15, 0.5 , 0.75, 1.  , 1.5 ]))"
      ]
     },
     "execution_count": 15,
     "metadata": {},
     "output_type": "execute_result"
    }
   ],
   "source": [
    "nh, me, ze"
   ]
  },
  {
   "cell_type": "code",
   "execution_count": 18,
   "metadata": {},
   "outputs": [],
   "source": [
    "del halo_all # Clear the variable so we free some memory..."
   ]
  },
  {
   "cell_type": "markdown",
   "metadata": {},
   "source": [
    "Get the number of centrals for the magnitude cut applied"
   ]
  },
  {
   "cell_type": "code",
   "execution_count": 28,
   "metadata": {},
   "outputs": [],
   "source": [
    "#np.save('/global/projecta/projectdirs/lsst/groups/LSS/DC1/number_halos_binned_dc2.npy', (nh, me, ze)) # Save this information because it takes a long time to query!"
   ]
  },
  {
   "cell_type": "code",
   "execution_count": 16,
   "metadata": {},
   "outputs": [],
   "source": [
    "unique_c, inv_c, h_counts_c = np.unique(galaxies['halo_id'][galaxies['isCentral']],return_inverse=True, return_counts=True)"
   ]
  },
  {
   "cell_type": "code",
   "execution_count": 20,
   "metadata": {},
   "outputs": [],
   "source": [
    "sorted_id_c = np.argsort(galaxies['halo_id'][galaxies['isCentral']]) # This is going to help us recover the selection"
   ]
  },
  {
   "cell_type": "markdown",
   "metadata": {},
   "source": [
    "Get the number of satellites for each halo"
   ]
  },
  {
   "cell_type": "code",
   "execution_count": 19,
   "metadata": {},
   "outputs": [],
   "source": [
    "unique_s, inv_s, h_counts_s = np.unique(galaxies['halo_id'][~galaxies['isCentral']],return_inverse=True, return_counts=True)\n",
    "sorted_id_s = np.argsort(galaxies['halo_id'][~galaxies['isCentral']])"
   ]
  },
  {
   "cell_type": "code",
   "execution_count": 21,
   "metadata": {},
   "outputs": [],
   "source": [
    "is_c = galaxies['isCentral']"
   ]
  },
  {
   "cell_type": "code",
   "execution_count": 23,
   "metadata": {},
   "outputs": [],
   "source": [
    "mean_count, me, ze, _ = binned_statistic_2d(np.log10(galaxies['halo_mass'][is_c][sorted_id_c]), galaxies['redshift'][is_c][sorted_id_c], h_counts_c[inv_c[sorted_id_c]], statistic='mean', bins=[m_edges, z_edges])\n",
    "std_count, me, ze, _ = binned_statistic_2d(np.log10(galaxies['halo_mass'][is_c][sorted_id_c]), galaxies['redshift'][is_c][sorted_id_c], h_counts_c[inv_c[sorted_id_c]], statistic='std', bins=[m_edges, z_edges])\n",
    "ncount, me, ze, _ = binned_statistic_2d(np.log10(galaxies['halo_mass'][is_c][sorted_id_c]), galaxies['redshift'][is_c][sorted_id_c], h_counts_c[inv_c[sorted_id_c]], statistic='count', bins=[m_edges, z_edges])"
   ]
  },
  {
   "cell_type": "code",
   "execution_count": 24,
   "metadata": {},
   "outputs": [],
   "source": [
    "mean_count_s, me, ze, _ = binned_statistic_2d(np.log10(galaxies['halo_mass'][~is_c][sorted_id_s]), galaxies['redshift'][~is_c][sorted_id_s], h_counts_s[inv_s[sorted_id_s]], statistic='mean', bins=[m_edges, z_edges])\n",
    "std_count_s, me, ze, _ = binned_statistic_2d(np.log10(galaxies['halo_mass'][~is_c][sorted_id_s]), galaxies['redshift'][~is_c][sorted_id_s], h_counts_s[inv_s[sorted_id_s]], statistic='std', bins=[m_edges, z_edges])\n",
    "ncount_s, me, ze, _ = binned_statistic_2d(np.log10(galaxies['halo_mass'][~is_c][sorted_id_s]), galaxies['redshift'][~is_c][sorted_id_s], h_counts_s[inv_s[sorted_id_s]], statistic='count', bins=[m_edges, z_edges])"
   ]
  },
  {
   "cell_type": "code",
   "execution_count": 27,
   "metadata": {},
   "outputs": [
    {
     "name": "stderr",
     "output_type": "stream",
     "text": [
      "/global/common/software/lsst/common/miniconda/current/lib/python3.6/site-packages/ipykernel/__main__.py:3: RuntimeWarning: invalid value encountered in true_divide\n",
      "  app.launch_new_instance()\n",
      "/global/common/software/lsst/common/miniconda/current/lib/python3.6/site-packages/ipykernel/__main__.py:4: RuntimeWarning: invalid value encountered in true_divide\n"
     ]
    },
    {
     "data": {
      "text/plain": [
       "<matplotlib.legend.Legend at 0x2aaae9b8cd30>"
      ]
     },
     "execution_count": 27,
     "metadata": {},
     "output_type": "execute_result"
    },
    {
     "data": {
      "image/png": "[encoded data removed]",
      "text/plain": [
       "<Figure size 432x288 with 1 Axes>"
      ]
     },
     "metadata": {
      "needs_background": "light"
     },
     "output_type": "display_data"
    }
   ],
   "source": [
    "colors = ['C0','C1','C2','C3','C4','C5']\n",
    "for i in range(mean_count.shape[1]):\n",
    "    plt.errorbar(0.5*me[1:]+0.5*me[:-1], mean_count[:,i]/nh[:,i], std_count[:,i]/(nh[:,i]*np.sqrt(ncount[:,i])),linestyle='none', fmt='+', fillstyle='none', color=colors[i])\n",
    "    plt.errorbar(0.5*me[1:]+0.5*me[:-1], mean_count_s[:,i]/nh[:,i], std_count_s[:,i]/(nh[:,i]*np.sqrt(ncount_s[:,i])),linestyle='none', fmt='o', fillstyle='none', color=colors[i])\n",
    "    plt.plot(11,-1, label='%.2f < z < %.2f' % (ze[i], ze[i+1]))\n",
    "plt.plot(11,-1,'k+', label=r'$\\rm central$')\n",
    "plt.plot(11,-1,'ko', fillstyle='none', label=r'$\\rm satellite$')\n",
    "plt.xlabel(r'$\\log_{10}\\left({\\rm M}_h \\,/\\, {\\rm M}_\\odot\\right)$', fontsize=20)\n",
    "plt.ylabel(r'$\\langle N(M_{h}) \\rangle$', fontsize=20)\n",
    "plt.yscale('log')\n",
    "plt.legend(loc='best')"
   ]
  },
  {
   "cell_type": "code",
   "execution_count": null,
   "metadata": {},
   "outputs": [],
   "source": []
  }
 ],
 "metadata": {
  "kernelspec": {
   "display_name": "desc-python",
   "language": "python",
   "name": "desc-python"
  },
  "language_info": {
   "codemirror_mode": {
    "name": "ipython",
    "version": 3
   },
   "file_extension": ".py",
   "mimetype": "text/x-python",
   "name": "python",
   "nbconvert_exporter": "python",
   "pygments_lexer": "ipython3",
   "version": "3.6.6"
  }
 },
 "nbformat": 4,
 "nbformat_minor": 2
}

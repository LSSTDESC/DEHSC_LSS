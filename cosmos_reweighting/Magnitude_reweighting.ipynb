{
 "cells": [
  {
   "cell_type": "code",
   "execution_count": 1,
   "metadata": {},
   "outputs": [],
   "source": [
    "#Imports\n",
    "%matplotlib inline\n",
    "import pandas as pd\n",
    "import numpy as np\n",
    "import matplotlib.pyplot as plt \n",
    "import random\n",
    "from astropy.io import fits\n",
    "from astropy.coordinates import SkyCoord\n",
    "import astropy.units as u\n",
    "from astropy.table import Table, hstack\n",
    "from scipy.optimize import curve_fit\n",
    "from sympy import *\n",
    "import math\n",
    "from mpmath import *\n",
    "from pandas.compat import StringIO\n",
    "from numpy.linalg import inv\n",
    "from scipy import linalg\n",
    "from scipy import interpolate\n",
    "from scipy import integrate\n",
    "from scipy.integrate import quad\n",
    "from sklearn.neighbors import NearestNeighbors\n",
    "from sklearn.neighbors import KDTree\n",
    "import scipy.spatial as spatial"
   ]
  },
  {
   "cell_type": "markdown",
   "metadata": {},
   "source": [
    "### Input data and parameters"
   ]
  },
  {
   "cell_type": "code",
   "execution_count": 21,
   "metadata": {},
   "outputs": [],
   "source": [
    "#The COSMOS 30-band data matched to some of the HSC data in the COSMOS field\n",
    "cosmos_matched_path= '../../../cosmos_matched_hsc.fits'\n",
    "hdulist = fits.open(cosmos_matched_path)\n",
    "cosmos_matched_data = hdulist[1].data\n",
    "cosmos_matched_columns= hdulist[1].columns\n",
    "\n",
    "#All the HSC data in COSMOS field\n",
    "hsc_cosmos_path= '/global/cscratch1/sd/damonge/HSC/HSC_processed/DEEP_COSMOS/DEEP_COSMOS_Catalog_i24.50.fits'\n",
    "hdulist = fits.open(hsc_cosmos_path)\n",
    "hsc_cosmos_data = hdulist[1].data\n",
    "hsc_cosmos_columns= hdulist[1].columns"
   ]
  },
  {
   "cell_type": "code",
   "execution_count": 22,
   "metadata": {},
   "outputs": [],
   "source": [
    "def make_samples(cosmos_matched_data, hsc_cosmos_data):\n",
    "    cosmos_matched_df= pd.DataFrame(cosmos_matched_data)\n",
    "    hsc_cosmos_df= pd.DataFrame(hsc_cosmos_data)\n",
    "\n",
    "    #Training set, or HSC photometry that matches to COSMOS 30-band\n",
    "    Train_sample= np.zeros([len(cosmos_matched_df),5])\n",
    "    for i in range(len(cosmos_matched_df)):\n",
    "        Train_sample[i]= np.array([cosmos_matched_df.iloc[i,536:541]]) #These are the magnitude values\n",
    "        \n",
    "    #COSMOS 30-band photometric redshifts\n",
    "    Train_z = np.array(cosmos_matched_df['PHOTOZ'])\n",
    "    \n",
    "    #All HSC photometry in COSMOS field\n",
    "    Photoz_sample= np.zeros([len(hsc_cosmos_df),5])\n",
    "    for i in range(len(hsc_cosmos_df)):\n",
    "        Photoz_sample[i]= np.array([hsc_cosmos_df.iloc[i,88:93]]) #These are the magnitude values\n",
    "        \n",
    "    return Train_sample, Train_z, Photoz_sample"
   ]
  },
  {
   "cell_type": "code",
   "execution_count": 23,
   "metadata": {},
   "outputs": [],
   "source": [
    "Train_sample, Train_z, Photoz_sample = make_samples(cosmos_matched_data, hsc_cosmos_data)"
   ]
  },
  {
   "cell_type": "code",
   "execution_count": 24,
   "metadata": {},
   "outputs": [],
   "source": [
    "#Input the total number of training galaxies\n",
    "N_train_tot= len(Train_sample)\n",
    "\n",
    "#Input the total number of photometric galaxies\n",
    "N_photo_tot= len(Photoz_sample)\n",
    "\n",
    "#Define the fixed N_nei that I want to use \n",
    "N_nei = 20\n",
    "\n",
    "#Input redshift bin info - weights will be summed in each redshift bin\n",
    "num_bin= 150\n",
    "bins= np.linspace(0, 6.0, num=150, endpoint=False)\n",
    "bins=np.append(bins,6)"
   ]
  },
  {
   "cell_type": "markdown",
   "metadata": {},
   "source": [
    "### Get nearest neighbours"
   ]
  },
  {
   "cell_type": "code",
   "execution_count": 25,
   "metadata": {},
   "outputs": [],
   "source": [
    "def find_nn(N_nei, Train_sample):\n",
    "    #Find the nearest neigbours for each of the training galaxies \n",
    "    N_nbrs = NearestNeighbors(n_neighbors=N_nei, algorithm='kd_tree', metric='euclidean').fit(Train_sample)\n",
    "\n",
    "    #Get the distances to each of the neighbours\n",
    "    distances, indices = N_nbrs.kneighbors(Train_sample)\n",
    "    return distances, indices"
   ]
  },
  {
   "cell_type": "code",
   "execution_count": 26,
   "metadata": {},
   "outputs": [],
   "source": [
    "distances, indices = find_nn(N_nei, Train_sample)"
   ]
  },
  {
   "cell_type": "markdown",
   "metadata": {},
   "source": [
    "### Extract the distance to the furthest k-nearest neighbour"
   ]
  },
  {
   "cell_type": "code",
   "execution_count": 27,
   "metadata": {},
   "outputs": [],
   "source": [
    "def furthest_dist(Train_sample, distances):\n",
    "    d_dist= np.zeros(len(Train_sample))\n",
    "    #Make an array with the distances to the furthest neighbour for each training galaxy\n",
    "    for i in range(len(Train_sample)):\n",
    "        d_dist[i] = distances[i][len(distances[0])-1]\n",
    "    return d_dist"
   ]
  },
  {
   "cell_type": "code",
   "execution_count": 28,
   "metadata": {},
   "outputs": [],
   "source": [
    "d_dist = furthest_dist(Train_sample, distances)"
   ]
  },
  {
   "cell_type": "markdown",
   "metadata": {},
   "source": [
    "### Find the number of photo-z galaxies within the furthest distance (d_dist) from each spec-z galaxy"
   ]
  },
  {
   "cell_type": "code",
   "execution_count": 29,
   "metadata": {},
   "outputs": [],
   "source": [
    "def photoz_within_dist(Photoz_sample, Train_sample, d_dist):\n",
    "    #Make the spatial.cKDTree object\n",
    "    tree_NN_lookup = spatial.cKDTree(Photoz_sample, leafsize=40)\n",
    "\n",
    "    #Make a corresponding array of the number of photo-z galaxies in the same area as N_nei training gals, for each train gal \n",
    "    num_photoz= np.zeros(len(Train_sample))\n",
    "\n",
    "    #Query the indicies of the points that lie within a distance of the point given \n",
    "    for i in range(len(Train_sample)):\n",
    "        num_photoz[i]= len(tree_NN_lookup.query_ball_point(Train_sample[i], d_dist[i]+0.00000100))\n",
    "        \n",
    "    return num_photoz"
   ]
  },
  {
   "cell_type": "code",
   "execution_count": 30,
   "metadata": {},
   "outputs": [],
   "source": [
    "num_photoz= photoz_within_dist(Photoz_sample, Train_sample, d_dist)"
   ]
  },
  {
   "cell_type": "markdown",
   "metadata": {},
   "source": [
    "### Make the Weights"
   ]
  },
  {
   "cell_type": "code",
   "execution_count": 31,
   "metadata": {},
   "outputs": [],
   "source": [
    "def make_weights(Train_sample, num_photoz, N_nei, N_photo_tot):\n",
    "    \n",
    "    #Make a corresponding array of the weights for each of the training galaxies\n",
    "    weights= np.zeros(len(Train_sample))\n",
    "\n",
    "    #Make the weights\n",
    "    weights = np.true_divide(num_photoz,N_nei*N_photo_tot)\n",
    "    return weights"
   ]
  },
  {
   "cell_type": "code",
   "execution_count": 32,
   "metadata": {},
   "outputs": [],
   "source": [
    "weights = make_weights(Train_sample, num_photoz, N_nei, N_photo_tot)\n",
    "weights_tot= np.sum(weights)  #Sum weights over all training galaxies"
   ]
  },
  {
   "cell_type": "code",
   "execution_count": 33,
   "metadata": {},
   "outputs": [],
   "source": [
    "def weights_per_bin(num_bin, Train_sample, Train_z, bins):\n",
    "    \n",
    "    #Weights per redshift bin  \n",
    "    weights_bin= np.zeros(num_bin)\n",
    "\n",
    "    for j in range(num_bin):\n",
    "        for i in range(len(Train_sample)):\n",
    "            if Train_z[i]>bins[j] and Train_z[i]<=bins[j+1]:\n",
    "                weights_bin[j]+=weights[i]\n",
    "                \n",
    "    return weights_bin"
   ]
  },
  {
   "cell_type": "code",
   "execution_count": 34,
   "metadata": {},
   "outputs": [],
   "source": [
    "weights_bin= weights_per_bin(num_bin, Train_sample, Train_z, bins)"
   ]
  },
  {
   "cell_type": "markdown",
   "metadata": {},
   "source": [
    "## Find the estimated photo-z N(z)"
   ]
  },
  {
   "cell_type": "code",
   "execution_count": 35,
   "metadata": {},
   "outputs": [],
   "source": [
    "def Nz(weights_bin, weights_tot, N_photo_tot):\n",
    "    P_T_z_delta_z =  np.true_divide(weights_bin, weights_tot)\n",
    "    N_p_est = P_T_z_delta_z*N_photo_tot\n",
    "    return N_p_est"
   ]
  },
  {
   "cell_type": "code",
   "execution_count": 36,
   "metadata": {},
   "outputs": [],
   "source": [
    "N_p_est= Nz(weights_bin, weights_tot, N_photo_tot)"
   ]
  },
  {
   "cell_type": "markdown",
   "metadata": {},
   "source": [
    "## Plot N(z) "
   ]
  },
  {
   "cell_type": "code",
   "execution_count": 37,
   "metadata": {},
   "outputs": [
    {
     "data": {
      "text/plain": [
       "Text(0,0.5,'N(z)')"
      ]
     },
     "execution_count": 37,
     "metadata": {},
     "output_type": "execute_result"
    },
    {
     "data": {
      "image/png": "[encoded data removed]",
      "text/plain": [
       "<Figure size 432x288 with 1 Axes>"
      ]
     },
     "metadata": {},
     "output_type": "display_data"
    }
   ],
   "source": [
    "# Nnei= 20\n",
    "plt.bar(bins[:-1],N_p_est, width= 0.04, align='edge')\n",
    "plt.xlabel('Redshift, z')\n",
    "plt.ylabel('N(z)')\n"
   ]
  },
  {
   "cell_type": "markdown",
   "metadata": {},
   "source": [
    "## Bootstrap resampling uncertainty"
   ]
  },
  {
   "cell_type": "code",
   "execution_count": 27,
   "metadata": {},
   "outputs": [],
   "source": [
    "def bootstrap_resample(Train_sample):\n",
    "    n= len(Train_sample)\n",
    "    resample = np.random.choice(n,n)\n",
    "    X_resample = Train_sample[resample]\n",
    "    return X_resample"
   ]
  },
  {
   "cell_type": "code",
   "execution_count": 28,
   "metadata": {},
   "outputs": [],
   "source": [
    "def Nz_bootstrap(n_bootstrap):\n",
    "    N_p_est_boot= np.zeros([n_bootstrap, num_bin])\n",
    "    for i in range(n_bootstrap):\n",
    "        Train_resample= bootstrap_resample(Train_sample)\n",
    "        distances, indices = find_nn(N_nei, Train_resample)\n",
    "        d_dist = furthest_dist(Train_resample, distances)\n",
    "        num_photoz= photoz_within_dist(Photoz_sample, Train_resample, d_dist)\n",
    "        weights = make_weights(Train_resample, num_photoz, N_nei, N_photo_tot)\n",
    "        weights_tot= np.sum(weights)  #Sum weights over all training galaxies\n",
    "        weights_bin= weights_per_bin(num_bin, Train_resample, Train_z, bins)\n",
    "        N_p_est_boot[i]= Nz(weights_bin, weights_tot, N_photo_tot)\n",
    "    return N_p_est_boot"
   ]
  },
  {
   "cell_type": "code",
   "execution_count": null,
   "metadata": {},
   "outputs": [],
   "source": [
    "n_bootstrap= 1000\n",
    "N_p_est_boot= Nz_bootstrap(n_bootstrap)"
   ]
  },
  {
   "cell_type": "code",
   "execution_count": 140,
   "metadata": {},
   "outputs": [],
   "source": [
    "def make_uncertainty_limits(num_bin, N_p_est_boot):\n",
    "    bin_lower= np.zeros(num_bin)\n",
    "    bin_upper= np.zeros(num_bin)\n",
    "    for i in range(num_bin):\n",
    "        bin_lower[i], bin_upper[i]= np.percentile(N_p_est_boot[:,i], [16,84])\n",
    "    return bin_lower, bin_upper"
   ]
  },
  {
   "cell_type": "code",
   "execution_count": 175,
   "metadata": {},
   "outputs": [],
   "source": [
    "bin_lower, bin_upper= make_uncertainty_limits(num_bin, N_p_est_boot)\n",
    "errors= np.vstack([abs(N_p_est-bin_lower), abs(bin_upper-N_p_est)])"
   ]
  },
  {
   "cell_type": "code",
   "execution_count": 176,
   "metadata": {},
   "outputs": [
    {
     "data": {
      "text/plain": [
       "<ErrorbarContainer object of 3 artists>"
      ]
     },
     "execution_count": 176,
     "metadata": {},
     "output_type": "execute_result"
    },
    {
     "data": {
      "image/png": "[encoded data removed]",
      "text/plain": [
       "<Figure size 432x288 with 1 Axes>"
      ]
     },
     "metadata": {},
     "output_type": "display_data"
    }
   ],
   "source": [
    "plt.errorbar(bins[:-1], N_p_est, yerr=errors, xerr=None ,ecolor= 'k', elinewidth= 1)"
   ]
  },
  {
   "cell_type": "code",
   "execution_count": 177,
   "metadata": {},
   "outputs": [
    {
     "data": {
      "text/plain": [
       "<matplotlib.collections.PolyCollection at 0x2b5e905fba90>"
      ]
     },
     "execution_count": 177,
     "metadata": {},
     "output_type": "execute_result"
    },
    {
     "data": {
      "image/png": "[encoded data removed]",
      "text/plain": [
       "<Figure size 432x288 with 1 Axes>"
      ]
     },
     "metadata": {},
     "output_type": "display_data"
    }
   ],
   "source": [
    "plt.plot(bins[:-1], N_p_est, 'k', linewidth= 0.5)\n",
    "plt.fill_between(bins[:-1], bin_lower, bin_upper, color='b')"
   ]
  },
  {
   "cell_type": "code",
   "execution_count": null,
   "metadata": {},
   "outputs": [],
   "source": []
  }
 ],
 "metadata": {
  "kernelspec": {
   "display_name": "Python [default]",
   "language": "python",
   "name": "python3"
  },
  "language_info": {
   "codemirror_mode": {
    "name": "ipython",
    "version": 3
   },
   "file_extension": ".py",
   "mimetype": "text/x-python",
   "name": "python",
   "nbconvert_exporter": "python",
   "pygments_lexer": "ipython3",
   "version": "3.6.5"
  }
 },
 "nbformat": 4,
 "nbformat_minor": 2
}

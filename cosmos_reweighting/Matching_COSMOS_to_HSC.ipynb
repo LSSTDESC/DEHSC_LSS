{
 "cells": [
  {
   "cell_type": "code",
   "execution_count": 25,
   "metadata": {},
   "outputs": [],
   "source": [
    "%matplotlib inline\n",
    "import pandas as pd\n",
    "import numpy as np\n",
    "import matplotlib.pyplot as plt \n",
    "import random\n",
    "from astropy.io import fits\n",
    "from astropy.coordinates import SkyCoord\n",
    "import astropy.units as u\n",
    "from astropy.table import Table, hstack"
   ]
  },
  {
   "cell_type": "markdown",
   "metadata": {},
   "source": [
    "### Import the relevant files"
   ]
  },
  {
   "cell_type": "code",
   "execution_count": 17,
   "metadata": {},
   "outputs": [],
   "source": [
    "hsc_cosmos_path= '/global/cscratch1/sd/damonge/HSC/HSC_processed/DEEP_COSMOS/DEEP_COSMOS_Catalog_i24.50.fits'\n",
    "hdulist = fits.open(hsc_cosmos_path)\n",
    "hsc_cosmos_data = hdulist[1].data\n",
    "hsc_cosmos_columns= hdulist[1].columns\n",
    "\n",
    "cosmos_path= '/global/cscratch1/sd/damonge/HSC/COSMOS2015_Laigle+_v1.1.fits'\n",
    "hdulist = fits.open(cosmos_path)\n",
    "cosmos_data = hdulist[1].data\n",
    "cosmos_columns= hdulist[1].columns"
   ]
  },
  {
   "cell_type": "markdown",
   "metadata": {},
   "source": [
    "### Cut COSMOS 30-band so they match HSC\n",
    "\n",
    "See https://arxiv.org/pdf/1704.05988.pdf 3rd page on \"COSMOS data\" part 2, \"Photo-z\""
   ]
  },
  {
   "cell_type": "code",
   "execution_count": 18,
   "metadata": {},
   "outputs": [
    {
     "name": "stderr",
     "output_type": "stream",
     "text": [
      "/global/common/cori/software/python/3.6-anaconda-5.2/lib/python3.6/site-packages/ipykernel/__main__.py:3: RuntimeWarning: divide by zero encountered in true_divide\n",
      "  app.launch_new_instance()\n"
     ]
    }
   ],
   "source": [
    "lim_indices = np.where((0.01 < cosmos_data['PHOTOZ']) & (9 > cosmos_data['PHOTOZ']) & (cosmos_data['TYPE'] == 0) & (cosmos_data['ZP_2'] < 0) & (cosmos_data['MASS_BEST'] > 7.5) \n",
    "            & (np.maximum(cosmos_data['ZPDF_H68'] - cosmos_data['ZPDF'], cosmos_data['ZPDF'] - cosmos_data['ZPDF_L68']) < 0.05*(1+cosmos_data['PHOTOZ']))\n",
    "            & (cosmos_data['CHI2_BEST'] < cosmos_data['CHIS']) & (cosmos_data['CHI2_BEST']/cosmos_data['NBFILT'] < 5.))\n",
    "\n",
    "cosmos_data_cut= cosmos_data[lim_indices] #length= 197640"
   ]
  },
  {
   "cell_type": "markdown",
   "metadata": {},
   "source": [
    "### Match the 30-band COSMOS to the HSC"
   ]
  },
  {
   "cell_type": "code",
   "execution_count": 27,
   "metadata": {},
   "outputs": [],
   "source": [
    "cosmos_skycoord = SkyCoord(ra = cosmos_data_cut['ALPHA_J2000'] * u.deg, dec = cosmos_data_cut['DELTA_J2000']*u.deg)\n",
    "\n",
    "hsc_skycoord = SkyCoord(ra = hsc_cosmos_data['ra'] * u.deg, dec = hsc_cosmos_data['dec'] * u.deg)\n",
    "    \n",
    "hsc_index, dist_2d, dist_3d = cosmos_skycoord.match_to_catalog_sky(hsc_skycoord)"
   ]
  },
  {
   "cell_type": "code",
   "execution_count": 28,
   "metadata": {},
   "outputs": [],
   "source": [
    "hsc_match= hsc_cosmos_data[hsc_index]"
   ]
  },
  {
   "cell_type": "markdown",
   "metadata": {},
   "source": [
    "### Make a fits file with this match"
   ]
  },
  {
   "cell_type": "code",
   "execution_count": 23,
   "metadata": {},
   "outputs": [],
   "source": [
    "cosmos_data_cut_df= pd.DataFrame(cosmos_data_cut)\n",
    "hsc_match_mag_df= pd.DataFrame(np.transpose([hsc_match['gcmodel_mag'], hsc_match['rcmodel_mag'], hsc_match['icmodel_mag'], hsc_match['zcmodel_mag'], hsc_match['ycmodel_mag']]),index=range(197640),columns=['gcmodel_mag','rcmodel_mag','icmodel_mag','zcmodel_mag','ycmodel_mag'] )\n",
    "\n",
    "t1 = Table.from_pandas(cosmos_data_cut_df)\n",
    "t2 = Table.from_pandas(hsc_match_mag_df)"
   ]
  },
  {
   "cell_type": "code",
   "execution_count": 170,
   "metadata": {},
   "outputs": [],
   "source": [
    "matched_catalog= hstack([t1, t2])\n",
    "matched_catalog.write('cosmos_matched_hsc.fits')"
   ]
  },
  {
   "cell_type": "code",
   "execution_count": 5,
   "metadata": {},
   "outputs": [],
   "source": [
    "cosmos_matched_path= 'cosmos_matched_hsc.fits'\n",
    "hdulist = fits.open(cosmos_matched_path)\n",
    "cosmos_matched_data = hdulist[1].data\n",
    "cosmos_matched_df= pd.DataFrame(cosmos_matched_data)"
   ]
  }
 ],
 "metadata": {
  "kernelspec": {
   "display_name": "Python [default]",
   "language": "python",
   "name": "python3"
  },
  "language_info": {
   "codemirror_mode": {
    "name": "ipython",
    "version": 3
   },
   "file_extension": ".py",
   "mimetype": "text/x-python",
   "name": "python",
   "nbconvert_exporter": "python",
   "pygments_lexer": "ipython3",
   "version": "3.6.5"
  }
 },
 "nbformat": 4,
 "nbformat_minor": 2
}

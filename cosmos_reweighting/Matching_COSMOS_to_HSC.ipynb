{
 "cells": [
  {
   "cell_type": "code",
   "execution_count": 2,
   "metadata": {},
   "outputs": [],
   "source": [
    "%matplotlib inline\n",
    "import pandas as pd\n",
    "import numpy as np\n",
    "import matplotlib.pyplot as plt \n",
    "import random\n",
    "from astropy.io import fits\n",
    "from astropy.coordinates import SkyCoord\n",
    "import astropy.units as u\n",
    "from astropy.table import Table, hstack"
   ]
  },
  {
   "cell_type": "markdown",
   "metadata": {},
   "source": [
    "### Import the relevant files"
   ]
  },
  {
   "cell_type": "code",
   "execution_count": 18,
   "metadata": {},
   "outputs": [],
   "source": [
    "hsc_cosmos_path= '/global/cscratch1/sd/damonge/HSC/HSC_processed/DEEP_COSMOS/DEEP_COSMOS_Catalog_i24.50.fits'\n",
    "hdulist = fits.open(hsc_cosmos_path)\n",
    "hsc_cosmos_data = hdulist[1].data\n",
    "hsc_cosmos_columns= hdulist[1].columns\n",
    "\n",
    "cosmos_path= '/global/cscratch1/sd/damonge/HSC/COSMOS2015_Laigle+_v1.1.fits'\n",
    "hdulist = fits.open(cosmos_path)\n",
    "cosmos_data = hdulist[1].data\n",
    "cosmos_columns= hdulist[1].columns"
   ]
  },
  {
   "cell_type": "code",
   "execution_count": 33,
   "metadata": {},
   "outputs": [
    {
     "data": {
      "text/plain": [
       "ColDefs(\n",
       "    name = 'object_id'; format = 'K'\n",
       "    name = 'ra'; format = 'D'\n",
       "    name = 'dec'; format = 'D'\n",
       "    name = 'tract'; format = 'J'\n",
       "    name = 'patch'; format = 'J'\n",
       "    name = 'merge_peak_g'; format = 'L'\n",
       "    name = 'merge_peak_r'; format = 'L'\n",
       "    name = 'merge_peak_i'; format = 'L'\n",
       "    name = 'merge_peak_z'; format = 'L'\n",
       "    name = 'merge_peak_y'; format = 'L'\n",
       "    name = 'gcountinputs'; format = 'I'\n",
       "    name = 'rcountinputs'; format = 'I'\n",
       "    name = 'icountinputs'; format = 'I'\n",
       "    name = 'zcountinputs'; format = 'I'\n",
       "    name = 'ycountinputs'; format = 'I'\n",
       "    name = 'iflags_pixel_bright_object_center'; format = 'L'\n",
       "    name = 'iflags_pixel_bright_object_any'; format = 'L'\n",
       "    name = 'iclassification_extendedness'; format = 'E'\n",
       "    name = 'iblendedness_abs_flux'; format = 'E'\n",
       "    name = 'a_g'; format = 'E'\n",
       "    name = 'a_r'; format = 'E'\n",
       "    name = 'a_i'; format = 'E'\n",
       "    name = 'a_z'; format = 'E'\n",
       "    name = 'a_y'; format = 'E'\n",
       "    name = 'gflux_psf'; format = 'D'\n",
       "    name = 'rflux_psf'; format = 'D'\n",
       "    name = 'iflux_psf'; format = 'D'\n",
       "    name = 'zflux_psf'; format = 'D'\n",
       "    name = 'yflux_psf'; format = 'D'\n",
       "    name = 'gflux_psf_err'; format = 'D'\n",
       "    name = 'rflux_psf_err'; format = 'D'\n",
       "    name = 'iflux_psf_err'; format = 'D'\n",
       "    name = 'zflux_psf_err'; format = 'D'\n",
       "    name = 'yflux_psf_err'; format = 'D'\n",
       "    name = 'gflux_psf_flags'; format = 'L'\n",
       "    name = 'rflux_psf_flags'; format = 'L'\n",
       "    name = 'iflux_psf_flags'; format = 'L'\n",
       "    name = 'zflux_psf_flags'; format = 'L'\n",
       "    name = 'yflux_psf_flags'; format = 'L'\n",
       "    name = 'gmag_psf'; format = 'E'\n",
       "    name = 'rmag_psf'; format = 'E'\n",
       "    name = 'imag_psf'; format = 'E'\n",
       "    name = 'zmag_psf'; format = 'E'\n",
       "    name = 'ymag_psf'; format = 'E'\n",
       "    name = 'gmag_psf_err'; format = 'E'\n",
       "    name = 'rmag_psf_err'; format = 'E'\n",
       "    name = 'imag_psf_err'; format = 'E'\n",
       "    name = 'zmag_psf_err'; format = 'E'\n",
       "    name = 'ymag_psf_err'; format = 'E'\n",
       "    name = 'gflux_aperture10'; format = 'D'\n",
       "    name = 'rflux_aperture10'; format = 'D'\n",
       "    name = 'iflux_aperture10'; format = 'D'\n",
       "    name = 'zflux_aperture10'; format = 'D'\n",
       "    name = 'yflux_aperture10'; format = 'D'\n",
       "    name = 'gflux_aperture10_err'; format = 'D'\n",
       "    name = 'rflux_aperture10_err'; format = 'D'\n",
       "    name = 'iflux_aperture10_err'; format = 'D'\n",
       "    name = 'zflux_aperture10_err'; format = 'D'\n",
       "    name = 'yflux_aperture10_err'; format = 'D'\n",
       "    name = 'gflux_aperture_flags'; format = 'L'\n",
       "    name = 'rflux_aperture_flags'; format = 'L'\n",
       "    name = 'iflux_aperture_flags'; format = 'L'\n",
       "    name = 'zflux_aperture_flags'; format = 'L'\n",
       "    name = 'yflux_aperture_flags'; format = 'L'\n",
       "    name = 'gmag_aperture10'; format = 'E'\n",
       "    name = 'rmag_aperture10'; format = 'E'\n",
       "    name = 'imag_aperture10'; format = 'E'\n",
       "    name = 'zmag_aperture10'; format = 'E'\n",
       "    name = 'ymag_aperture10'; format = 'E'\n",
       "    name = 'gmag_aperture10_err'; format = 'E'\n",
       "    name = 'rmag_aperture10_err'; format = 'E'\n",
       "    name = 'imag_aperture10_err'; format = 'E'\n",
       "    name = 'zmag_aperture10_err'; format = 'E'\n",
       "    name = 'ymag_aperture10_err'; format = 'E'\n",
       "    name = 'gcmodel_flux'; format = 'D'\n",
       "    name = 'rcmodel_flux'; format = 'D'\n",
       "    name = 'icmodel_flux'; format = 'D'\n",
       "    name = 'zcmodel_flux'; format = 'D'\n",
       "    name = 'ycmodel_flux'; format = 'D'\n",
       "    name = 'gcmodel_flux_err'; format = 'D'\n",
       "    name = 'rcmodel_flux_err'; format = 'D'\n",
       "    name = 'icmodel_flux_err'; format = 'D'\n",
       "    name = 'zcmodel_flux_err'; format = 'D'\n",
       "    name = 'ycmodel_flux_err'; format = 'D'\n",
       "    name = 'gcmodel_flux_flags'; format = 'L'\n",
       "    name = 'rcmodel_flux_flags'; format = 'L'\n",
       "    name = 'icmodel_flux_flags'; format = 'L'\n",
       "    name = 'zcmodel_flux_flags'; format = 'L'\n",
       "    name = 'ycmodel_flux_flags'; format = 'L'\n",
       "    name = 'gcmodel_mag'; format = 'E'\n",
       "    name = 'rcmodel_mag'; format = 'E'\n",
       "    name = 'icmodel_mag'; format = 'E'\n",
       "    name = 'zcmodel_mag'; format = 'E'\n",
       "    name = 'ycmodel_mag'; format = 'E'\n",
       "    name = 'gcmodel_mag_err'; format = 'E'\n",
       "    name = 'rcmodel_mag_err'; format = 'E'\n",
       "    name = 'icmodel_mag_err'; format = 'E'\n",
       "    name = 'zcmodel_mag_err'; format = 'E'\n",
       "    name = 'ycmodel_mag_err'; format = 'E'\n",
       "    name = 'pz_mean_eab'; format = 'E'\n",
       "    name = 'pz_mode_eab'; format = 'E'\n",
       "    name = 'pz_best_eab'; format = 'E'\n",
       "    name = 'pz_mc_eab'; format = 'E'\n",
       "    name = 'pz_mean_frz'; format = 'E'\n",
       "    name = 'pz_mode_frz'; format = 'E'\n",
       "    name = 'pz_best_frz'; format = 'E'\n",
       "    name = 'pz_mc_frz'; format = 'E'\n",
       "    name = 'pz_mean_nnz'; format = 'E'\n",
       "    name = 'pz_mode_nnz'; format = 'E'\n",
       "    name = 'pz_best_nnz'; format = 'E'\n",
       "    name = 'pz_mc_nnz'; format = 'E'\n",
       ")"
      ]
     },
     "execution_count": 33,
     "metadata": {},
     "output_type": "execute_result"
    }
   ],
   "source": [
    "len(hsc_cosmos_data) #537547 now 527452\n",
    "len(cosmos_data) #1182108\n",
    "hsc_cosmos_data.columns"
   ]
  },
  {
   "cell_type": "markdown",
   "metadata": {},
   "source": [
    "### Cut COSMOS 30-band so they match HSC\n",
    "\n",
    "See https://arxiv.org/pdf/1704.05988.pdf 3rd page on \"COSMOS data\" part 2, \"Photo-z\""
   ]
  },
  {
   "cell_type": "code",
   "execution_count": 21,
   "metadata": {},
   "outputs": [
    {
     "name": "stderr",
     "output_type": "stream",
     "text": [
      "/global/common/cori/software/python/3.6-anaconda-5.2/lib/python3.6/site-packages/ipykernel/__main__.py:3: RuntimeWarning: divide by zero encountered in true_divide\n",
      "  app.launch_new_instance()\n"
     ]
    }
   ],
   "source": [
    "lim_indices = np.where((0.01 < cosmos_data['PHOTOZ']) & (9 > cosmos_data['PHOTOZ']) & (cosmos_data['TYPE'] == 0) & (cosmos_data['ZP_2'] < 0) & (cosmos_data['MASS_BEST'] > 7.5) \n",
    "            & (np.maximum(cosmos_data['ZPDF_H68'] - cosmos_data['ZPDF'], cosmos_data['ZPDF'] - cosmos_data['ZPDF_L68']) < 0.05*(1+cosmos_data['PHOTOZ']))\n",
    "            & (cosmos_data['CHI2_BEST'] < cosmos_data['CHIS']) & (cosmos_data['CHI2_BEST']/cosmos_data['NBFILT'] < 5.))\n",
    "\n",
    "cosmos_data_cut= cosmos_data[lim_indices] #length= 197640\n"
   ]
  },
  {
   "cell_type": "code",
   "execution_count": 22,
   "metadata": {},
   "outputs": [
    {
     "data": {
      "text/plain": [
       "<matplotlib.collections.PathCollection at 0x2af04e4e3be0>"
      ]
     },
     "execution_count": 22,
     "metadata": {},
     "output_type": "execute_result"
    },
    {
     "data": {
      "image/png": "[encoded data removed]",
      "text/plain": [
       "<Figure size 432x288 with 1 Axes>"
      ]
     },
     "metadata": {
      "needs_background": "light"
     },
     "output_type": "display_data"
    }
   ],
   "source": [
    "#blue- HSC, orange- COSMOS\n",
    "plt.scatter(hsc_cosmos_data['ra'], hsc_cosmos_data['dec'])\n",
    "plt.scatter(cosmos_data_cut['ALPHA_J2000'], cosmos_data_cut['DELTA_J2000'])\n"
   ]
  },
  {
   "cell_type": "markdown",
   "metadata": {},
   "source": [
    "### Match the 30-band COSMOS to the HSC"
   ]
  },
  {
   "cell_type": "code",
   "execution_count": 23,
   "metadata": {},
   "outputs": [],
   "source": [
    "cosmos_skycoord = SkyCoord(ra = cosmos_data_cut['ALPHA_J2000'] * u.deg, dec = cosmos_data_cut['DELTA_J2000']*u.deg)\n",
    "\n",
    "hsc_skycoord = SkyCoord(ra = hsc_cosmos_data['ra'] * u.deg, dec = hsc_cosmos_data['dec'] * u.deg)\n",
    "    \n",
    "#hsc_index, dist_2d, dist_3d = cosmos_skycoord.match_to_catalog_sky(hsc_skycoord) This was for every cosmos, find a matching HSC\n",
    "\n",
    "#Instead, I should do for every hsc, find matching COSMOS, as the hsc sample is much smaller and shallower\n",
    "cosmos_index, dist_2d, dist_3d = hsc_skycoord.match_to_catalog_sky(cosmos_skycoord)"
   ]
  },
  {
   "cell_type": "code",
   "execution_count": 24,
   "metadata": {},
   "outputs": [],
   "source": [
    "#cosmos_index is the indicies of cosmos_data_cut that match each of the hsc objects. Has same length as hsc_cosmos_data\n",
    "#mask is a boolean array based on the distances of the resulting cosmos matches (True if dist<1arcsec)\n",
    "mask=dist_2d.degree*60*60<1 #\n",
    "cosmos_good=cosmos_data_cut[cosmos_index[mask]] #len= 90511 then 89867\n",
    "hsc_good=hsc_cosmos_data[mask] #len= 90511 then 89867"
   ]
  },
  {
   "cell_type": "code",
   "execution_count": 26,
   "metadata": {},
   "outputs": [
    {
     "data": {
      "text/plain": [
       "89867"
      ]
     },
     "execution_count": 26,
     "metadata": {},
     "output_type": "execute_result"
    }
   ],
   "source": [
    "len(cosmos_good)"
   ]
  },
  {
   "cell_type": "code",
   "execution_count": 27,
   "metadata": {},
   "outputs": [
    {
     "data": {
      "text/plain": [
       "<matplotlib.collections.PathCollection at 0x2af04e522668>"
      ]
     },
     "execution_count": 27,
     "metadata": {},
     "output_type": "execute_result"
    },
    {
     "data": {
      "image/png": "[encoded data removed]",
      "text/plain": [
       "<Figure size 432x288 with 1 Axes>"
      ]
     },
     "metadata": {
      "needs_background": "light"
     },
     "output_type": "display_data"
    }
   ],
   "source": [
    "plt.scatter(cosmos_good['ALPHA_J2000'], cosmos_good['DELTA_J2000'])\n",
    "plt.scatter(hsc_good['ra'], hsc_good['dec'])\n"
   ]
  },
  {
   "cell_type": "code",
   "execution_count": 28,
   "metadata": {},
   "outputs": [
    {
     "data": {
      "text/plain": [
       "(array([ 40873.,  37470.,   7312.,   1887.,    880.,    497.,    314.,\n",
       "           240.,    212.,    182.]),\n",
       " array([  6.50568491e-04,   1.00578187e-01,   2.00505805e-01,\n",
       "          3.00433423e-01,   4.00361042e-01,   5.00288660e-01,\n",
       "          6.00216278e-01,   7.00143897e-01,   8.00071515e-01,\n",
       "          8.99999133e-01,   9.99926752e-01]),\n",
       " <a list of 10 Patch objects>)"
      ]
     },
     "execution_count": 28,
     "metadata": {},
     "output_type": "execute_result"
    },
    {
     "data": {
      "image/png": "[encoded data removed]",
      "text/plain": [
       "<Figure size 432x288 with 1 Axes>"
      ]
     },
     "metadata": {
      "needs_background": "light"
     },
     "output_type": "display_data"
    }
   ],
   "source": [
    "plt.hist(dist_2d[mask].degree*60*60)"
   ]
  },
  {
   "cell_type": "markdown",
   "metadata": {},
   "source": [
    "### Make a fits file with this match"
   ]
  },
  {
   "cell_type": "code",
   "execution_count": 34,
   "metadata": {},
   "outputs": [],
   "source": [
    "cosmos_good_df= pd.DataFrame(cosmos_good)\n",
    "hsc_good_mag_df= pd.DataFrame(np.transpose([hsc_good['gcmodel_mag'], hsc_good['rcmodel_mag'], hsc_good['icmodel_mag'], hsc_good['zcmodel_mag'], hsc_good['ycmodel_mag'], hsc_good['pz_mean_eab'], hsc_good['pz_mode_eab'], hsc_good['pz_best_eab'], hsc_good['pz_mc_eab'], hsc_good['pz_mean_frz'],hsc_good['pz_mode_frz'],hsc_good['pz_best_frz'],hsc_good['pz_mc_frz'], hsc_good['pz_mean_nnz'], hsc_good['pz_mode_nnz'], hsc_good['pz_best_nnz'], hsc_good['pz_mc_nnz']]),index=range(89867),columns=['gcmodel_mag','rcmodel_mag','icmodel_mag','zcmodel_mag','ycmodel_mag', 'pz_mean_eab', 'pz_mode_eab', 'pz_best_eab', 'pz_mc_eab', 'pz_mean_frz','pz_mode_frz','pz_best_frz','pz_mc_frz','pz_mean_nnz','pz_mode_nnz','pz_best_nnz','pz_mc_nnz'])\n",
    "\n",
    "t1 = Table.from_pandas(cosmos_good_df)\n",
    "t2 = Table.from_pandas(hsc_good_mag_df)"
   ]
  },
  {
   "cell_type": "code",
   "execution_count": 35,
   "metadata": {},
   "outputs": [],
   "source": [
    "matched_catalog= hstack([t1, t2])\n",
    "matched_catalog.write('../../../cosmos_matched_SNcut_hsc_1arcsec_deblend_cuts.fits')"
   ]
  },
  {
   "cell_type": "code",
   "execution_count": 36,
   "metadata": {},
   "outputs": [],
   "source": [
    "cosmos_matched_path= '../../../cosmos_matched_SNcut_hsc_1arcsec_deblend_cuts.fits'\n",
    "hdulist = fits.open(cosmos_matched_path)\n",
    "cosmos_matched_data = hdulist[1].data\n",
    "cosmos_matched_df= pd.DataFrame(cosmos_matched_data)"
   ]
  },
  {
   "cell_type": "code",
   "execution_count": 38,
   "metadata": {},
   "outputs": [
    {
     "data": {
      "text/html": [
       "<div>\n",
       "<style scoped>\n",
       "    .dataframe tbody tr th:only-of-type {\n",
       "        vertical-align: middle;\n",
       "    }\n",
       "\n",
       "    .dataframe tbody tr th {\n",
       "        vertical-align: top;\n",
       "    }\n",
       "\n",
       "    .dataframe thead th {\n",
       "        text-align: right;\n",
       "    }\n",
       "</style>\n",
       "<table border=\"1\" class=\"dataframe\">\n",
       "  <thead>\n",
       "    <tr style=\"text-align: right;\">\n",
       "      <th></th>\n",
       "      <th>ALPHA_J2000</th>\n",
       "      <th>DELTA_J2000</th>\n",
       "      <th>NUMBER</th>\n",
       "      <th>X_IMAGE</th>\n",
       "      <th>Y_IMAGE</th>\n",
       "      <th>ERRX2_IMAGE</th>\n",
       "      <th>ERRY2_IMAGE</th>\n",
       "      <th>ERRXY_IMAGE</th>\n",
       "      <th>FLAG_HJMCC</th>\n",
       "      <th>FLUX_RADIUS</th>\n",
       "      <th>...</th>\n",
       "      <th>pz_best_eab</th>\n",
       "      <th>pz_mc_eab</th>\n",
       "      <th>pz_mean_frz</th>\n",
       "      <th>pz_mode_frz</th>\n",
       "      <th>pz_best_frz</th>\n",
       "      <th>pz_mc_frz</th>\n",
       "      <th>pz_mean_nnz</th>\n",
       "      <th>pz_mode_nnz</th>\n",
       "      <th>pz_best_nnz</th>\n",
       "      <th>pz_mc_nnz</th>\n",
       "    </tr>\n",
       "  </thead>\n",
       "  <tbody>\n",
       "    <tr>\n",
       "      <th>0</th>\n",
       "      <td>149.453697</td>\n",
       "      <td>1.619731</td>\n",
       "      <td>223167</td>\n",
       "      <td>38613.652344</td>\n",
       "      <td>7893.300293</td>\n",
       "      <td>0.001162</td>\n",
       "      <td>0.001010</td>\n",
       "      <td>0.000099</td>\n",
       "      <td>0</td>\n",
       "      <td>3.545569</td>\n",
       "      <td>...</td>\n",
       "      <td>0.532564</td>\n",
       "      <td>0.327275</td>\n",
       "      <td>0.723626</td>\n",
       "      <td>0.57</td>\n",
       "      <td>0.59</td>\n",
       "      <td>0.567385</td>\n",
       "      <td>0.667652</td>\n",
       "      <td>0.705</td>\n",
       "      <td>0.705</td>\n",
       "      <td>0.707358</td>\n",
       "    </tr>\n",
       "    <tr>\n",
       "      <th>1</th>\n",
       "      <td>149.459778</td>\n",
       "      <td>1.619942</td>\n",
       "      <td>223356</td>\n",
       "      <td>38467.738281</td>\n",
       "      <td>7898.336914</td>\n",
       "      <td>0.001521</td>\n",
       "      <td>0.001726</td>\n",
       "      <td>0.000072</td>\n",
       "      <td>0</td>\n",
       "      <td>4.009595</td>\n",
       "      <td>...</td>\n",
       "      <td>0.579725</td>\n",
       "      <td>0.709972</td>\n",
       "      <td>0.719739</td>\n",
       "      <td>0.62</td>\n",
       "      <td>0.60</td>\n",
       "      <td>0.784233</td>\n",
       "      <td>0.749815</td>\n",
       "      <td>0.635</td>\n",
       "      <td>0.625</td>\n",
       "      <td>0.632712</td>\n",
       "    </tr>\n",
       "    <tr>\n",
       "      <th>2</th>\n",
       "      <td>149.482316</td>\n",
       "      <td>1.625156</td>\n",
       "      <td>226624</td>\n",
       "      <td>37926.894531</td>\n",
       "      <td>8023.321289</td>\n",
       "      <td>0.000584</td>\n",
       "      <td>0.000667</td>\n",
       "      <td>0.000108</td>\n",
       "      <td>0</td>\n",
       "      <td>4.142091</td>\n",
       "      <td>...</td>\n",
       "      <td>0.575558</td>\n",
       "      <td>0.581394</td>\n",
       "      <td>0.602711</td>\n",
       "      <td>0.63</td>\n",
       "      <td>0.61</td>\n",
       "      <td>0.508874</td>\n",
       "      <td>0.398997</td>\n",
       "      <td>0.215</td>\n",
       "      <td>0.335</td>\n",
       "      <td>0.099019</td>\n",
       "    </tr>\n",
       "    <tr>\n",
       "      <th>3</th>\n",
       "      <td>149.496974</td>\n",
       "      <td>1.625868</td>\n",
       "      <td>227066</td>\n",
       "      <td>37575.187500</td>\n",
       "      <td>8040.296875</td>\n",
       "      <td>0.000294</td>\n",
       "      <td>0.000271</td>\n",
       "      <td>0.000024</td>\n",
       "      <td>0</td>\n",
       "      <td>4.170648</td>\n",
       "      <td>...</td>\n",
       "      <td>2.277613</td>\n",
       "      <td>0.302322</td>\n",
       "      <td>1.814427</td>\n",
       "      <td>1.89</td>\n",
       "      <td>1.92</td>\n",
       "      <td>2.071863</td>\n",
       "      <td>1.688815</td>\n",
       "      <td>2.675</td>\n",
       "      <td>2.345</td>\n",
       "      <td>0.153308</td>\n",
       "    </tr>\n",
       "    <tr>\n",
       "      <th>4</th>\n",
       "      <td>149.475738</td>\n",
       "      <td>1.626337</td>\n",
       "      <td>227113</td>\n",
       "      <td>38084.710938</td>\n",
       "      <td>8051.709961</td>\n",
       "      <td>0.000907</td>\n",
       "      <td>0.000769</td>\n",
       "      <td>0.000048</td>\n",
       "      <td>0</td>\n",
       "      <td>3.648163</td>\n",
       "      <td>...</td>\n",
       "      <td>1.290852</td>\n",
       "      <td>1.241290</td>\n",
       "      <td>1.317414</td>\n",
       "      <td>1.29</td>\n",
       "      <td>1.31</td>\n",
       "      <td>1.339371</td>\n",
       "      <td>1.274344</td>\n",
       "      <td>1.275</td>\n",
       "      <td>1.275</td>\n",
       "      <td>1.174628</td>\n",
       "    </tr>\n",
       "  </tbody>\n",
       "</table>\n",
       "<p>5 rows × 553 columns</p>\n",
       "</div>"
      ],
      "text/plain": [
       "   ALPHA_J2000  DELTA_J2000  NUMBER       X_IMAGE      Y_IMAGE  ERRX2_IMAGE  \\\n",
       "0   149.453697     1.619731  223167  38613.652344  7893.300293     0.001162   \n",
       "1   149.459778     1.619942  223356  38467.738281  7898.336914     0.001521   \n",
       "2   149.482316     1.625156  226624  37926.894531  8023.321289     0.000584   \n",
       "3   149.496974     1.625868  227066  37575.187500  8040.296875     0.000294   \n",
       "4   149.475738     1.626337  227113  38084.710938  8051.709961     0.000907   \n",
       "\n",
       "   ERRY2_IMAGE  ERRXY_IMAGE  FLAG_HJMCC  FLUX_RADIUS    ...      pz_best_eab  \\\n",
       "0     0.001010     0.000099           0     3.545569    ...         0.532564   \n",
       "1     0.001726     0.000072           0     4.009595    ...         0.579725   \n",
       "2     0.000667     0.000108           0     4.142091    ...         0.575558   \n",
       "3     0.000271     0.000024           0     4.170648    ...         2.277613   \n",
       "4     0.000769     0.000048           0     3.648163    ...         1.290852   \n",
       "\n",
       "   pz_mc_eab  pz_mean_frz  pz_mode_frz  pz_best_frz  pz_mc_frz  pz_mean_nnz  \\\n",
       "0   0.327275     0.723626         0.57         0.59   0.567385     0.667652   \n",
       "1   0.709972     0.719739         0.62         0.60   0.784233     0.749815   \n",
       "2   0.581394     0.602711         0.63         0.61   0.508874     0.398997   \n",
       "3   0.302322     1.814427         1.89         1.92   2.071863     1.688815   \n",
       "4   1.241290     1.317414         1.29         1.31   1.339371     1.274344   \n",
       "\n",
       "   pz_mode_nnz  pz_best_nnz  pz_mc_nnz  \n",
       "0        0.705        0.705   0.707358  \n",
       "1        0.635        0.625   0.632712  \n",
       "2        0.215        0.335   0.099019  \n",
       "3        2.675        2.345   0.153308  \n",
       "4        1.275        1.275   1.174628  \n",
       "\n",
       "[5 rows x 553 columns]"
      ]
     },
     "execution_count": 38,
     "metadata": {},
     "output_type": "execute_result"
    }
   ],
   "source": [
    "cosmos_matched_df.head()"
   ]
  },
  {
   "cell_type": "code",
   "execution_count": null,
   "metadata": {},
   "outputs": [],
   "source": []
  }
 ],
 "metadata": {
  "kernelspec": {
   "display_name": "Python [default]",
   "language": "python",
   "name": "python3"
  },
  "language_info": {
   "codemirror_mode": {
    "name": "ipython",
    "version": 3
   },
   "file_extension": ".py",
   "mimetype": "text/x-python",
   "name": "python",
   "nbconvert_exporter": "python",
   "pygments_lexer": "ipython3",
   "version": "3.6.5"
  }
 },
 "nbformat": 4,
 "nbformat_minor": 2
}

{
 "cells": [
  {
   "cell_type": "code",
   "execution_count": 1,
   "metadata": {},
   "outputs": [],
   "source": [
    "#Imports\n",
    "%matplotlib inline\n",
    "import pandas as pd\n",
    "import numpy as np\n",
    "import matplotlib.pyplot as plt \n",
    "import random\n",
    "from astropy.io import fits\n",
    "from astropy.coordinates import SkyCoord\n",
    "import astropy.units as u\n",
    "from astropy.table import Table, hstack\n",
    "from scipy.optimize import curve_fit\n",
    "from sympy import *\n",
    "import math\n",
    "from mpmath import *\n",
    "from pandas.compat import StringIO\n",
    "from numpy.linalg import inv\n",
    "from scipy import linalg\n",
    "from scipy import interpolate\n",
    "from scipy import integrate\n",
    "from scipy.integrate import quad\n",
    "from sklearn.neighbors import NearestNeighbors\n",
    "from sklearn.neighbors import KDTree\n",
    "import scipy.spatial as spatial"
   ]
  },
  {
   "cell_type": "markdown",
   "metadata": {},
   "source": [
    "## Import data"
   ]
  },
  {
   "cell_type": "code",
   "execution_count": 2,
   "metadata": {},
   "outputs": [],
   "source": [
    "#The COSMOS 30-band data matched to some of the HSC data in the COSMOS field\n",
    "cosmos_matched_path= '../../../cosmos_matched_hsc.fits'\n",
    "hdulist = fits.open(cosmos_matched_path)\n",
    "cosmos_matched_data = hdulist[1].data\n",
    "cosmos_matched_columns= hdulist[1].columns\n",
    "\n",
    "#All the HSC data in COSMOS field\n",
    "hsc_cosmos_path= '/global/cscratch1/sd/damonge/HSC/HSC_processed/DEEP_COSMOS/DEEP_COSMOS_Catalog_i24.50.fits'\n",
    "hdulist = fits.open(hsc_cosmos_path)\n",
    "hsc_cosmos_data = hdulist[1].data\n",
    "hsc_cosmos_columns= hdulist[1].columns"
   ]
  },
  {
   "cell_type": "markdown",
   "metadata": {},
   "source": [
    "## Cut HSC galaxies into redshift bins based on ephor ab z_best"
   ]
  },
  {
   "cell_type": "code",
   "execution_count": 3,
   "metadata": {},
   "outputs": [],
   "source": [
    "def make_samples(cosmos_matched_data):\n",
    "    cosmos_matched_df= pd.DataFrame(cosmos_matched_data)\n",
    "\n",
    "    #Training set, or HSC photometry that matches to COSMOS 30-band\n",
    "    Train_sample= np.zeros([len(cosmos_matched_df),5])\n",
    "    for i in range(len(cosmos_matched_df)):\n",
    "        Train_sample[i]= np.array([cosmos_matched_df.iloc[i,536:541]]) #These are the magnitude values\n",
    "        \n",
    "    #COSMOS 30-band photometric redshifts\n",
    "    Train_z = np.array(cosmos_matched_df['PHOTOZ'])\n",
    "    \n",
    "    return Train_sample, Train_z"
   ]
  },
  {
   "cell_type": "code",
   "execution_count": 4,
   "metadata": {},
   "outputs": [],
   "source": [
    "def make_binned_samples(hsc_cosmos_data):\n",
    "    hsc_cosmos_df= pd.DataFrame(hsc_cosmos_data)\n",
    "    \n",
    "    Photoz_sample= np.zeros([len(hsc_cosmos_df),5])\n",
    "    for i in range(len(hsc_cosmos_df)):\n",
    "        Photoz_sample[i]= np.array([hsc_cosmos_df.iloc[i,88:93]]) #These are the magnitude values\n",
    "        \n",
    "    return Photoz_sample"
   ]
  },
  {
   "cell_type": "code",
   "execution_count": 7,
   "metadata": {},
   "outputs": [],
   "source": [
    "def form_z_bins(hsc_cosmos_data):\n",
    "    hsc_cosmos_bin1= hsc_cosmos_data[(hsc_cosmos_data['pz_best_eab']>0.15) & (hsc_cosmos_data['pz_best_eab']<=0.5)]\n",
    "    hsc_cosmos_bin2= hsc_cosmos_data[(hsc_cosmos_data['pz_best_eab']>0.5) & (hsc_cosmos_data['pz_best_eab']<=0.75)]\n",
    "    hsc_cosmos_bin3= hsc_cosmos_data[(hsc_cosmos_data['pz_best_eab']>0.75) & (hsc_cosmos_data['pz_best_eab']<=1.0)]\n",
    "    hsc_cosmos_bin4= hsc_cosmos_data[(hsc_cosmos_data['pz_best_eab']>1.0) & (hsc_cosmos_data['pz_best_eab']<=1.5)]\n",
    "    \n",
    "    return hsc_cosmos_bin1, hsc_cosmos_bin2, hsc_cosmos_bin3, hsc_cosmos_bin4"
   ]
  },
  {
   "cell_type": "code",
   "execution_count": 8,
   "metadata": {},
   "outputs": [],
   "source": [
    "hsc_cosmos_bin1, hsc_cosmos_bin2, hsc_cosmos_bin3, hsc_cosmos_bin4 = form_z_bins(hsc_cosmos_data)"
   ]
  },
  {
   "cell_type": "code",
   "execution_count": 10,
   "metadata": {},
   "outputs": [],
   "source": [
    "Train_sample, Train_z = make_samples(cosmos_matched_data)\n",
    "Photoz_bin1= make_binned_samples(hsc_cosmos_bin1)\n",
    "Photoz_bin2= make_binned_samples(hsc_cosmos_bin2)\n",
    "Photoz_bin3= make_binned_samples(hsc_cosmos_bin3)\n",
    "Photoz_bin4= make_binned_samples(hsc_cosmos_bin4)"
   ]
  },
  {
   "cell_type": "code",
   "execution_count": 11,
   "metadata": {},
   "outputs": [],
   "source": [
    "#Input the total number of training galaxies\n",
    "N_train_tot= len(Train_sample)\n",
    "\n",
    "#Input the total number of photometric galaxies\n",
    "N_photo_tot_bin1= len(Photoz_bin1)\n",
    "N_photo_tot_bin2= len(Photoz_bin2)\n",
    "N_photo_tot_bin3= len(Photoz_bin3)\n",
    "N_photo_tot_bin4= len(Photoz_bin4)\n",
    "\n",
    "#Define the fixed N_nei that I want to use \n",
    "N_nei = 20\n",
    "\n",
    "#Input redshift bin info - weights will be summed in each redshift bin\n",
    "num_bin= 150\n",
    "bins= np.linspace(0, 6.0, num=150, endpoint=False)\n",
    "bins=np.append(bins,6)"
   ]
  },
  {
   "cell_type": "markdown",
   "metadata": {},
   "source": [
    "## Get the nearest neighbours"
   ]
  },
  {
   "cell_type": "code",
   "execution_count": 12,
   "metadata": {},
   "outputs": [],
   "source": [
    "def find_nn(N_nei, Train_sample):\n",
    "    #Find the nearest neigbours for each of the training galaxies \n",
    "    N_nbrs = NearestNeighbors(n_neighbors=N_nei, algorithm='kd_tree', metric='euclidean').fit(Train_sample)\n",
    "\n",
    "    #Get the distances to each of the neighbours\n",
    "    distances, indices = N_nbrs.kneighbors(Train_sample)\n",
    "    return distances, indices"
   ]
  },
  {
   "cell_type": "code",
   "execution_count": 13,
   "metadata": {},
   "outputs": [],
   "source": [
    "distances, indices = find_nn(N_nei, Train_sample)"
   ]
  },
  {
   "cell_type": "markdown",
   "metadata": {},
   "source": [
    "### Extract the distance to the furthest k-nearest neighbour"
   ]
  },
  {
   "cell_type": "code",
   "execution_count": 14,
   "metadata": {},
   "outputs": [],
   "source": [
    "def furthest_dist(Train_sample, distances):\n",
    "    d_dist= np.zeros(len(Train_sample))\n",
    "    #Make an array with the distances to the furthest neighbour for each training galaxy\n",
    "    for i in range(len(Train_sample)):\n",
    "        d_dist[i] = distances[i][len(distances[0])-1]\n",
    "    return d_dist"
   ]
  },
  {
   "cell_type": "code",
   "execution_count": 15,
   "metadata": {},
   "outputs": [],
   "source": [
    "d_dist = furthest_dist(Train_sample, distances)"
   ]
  },
  {
   "cell_type": "markdown",
   "metadata": {},
   "source": [
    "### Find the number of photo-z galaxies within the furthest distance (d_dist) from each spec-z galaxy"
   ]
  },
  {
   "cell_type": "code",
   "execution_count": 16,
   "metadata": {},
   "outputs": [],
   "source": [
    "def photoz_within_dist(Photoz_sample, Train_sample, d_dist):\n",
    "    #Make the spatial.cKDTree object\n",
    "    tree_NN_lookup = spatial.cKDTree(Photoz_sample, leafsize=40)\n",
    "\n",
    "    #Make a corresponding array of the number of photo-z galaxies in the same area as N_nei training gals, for each train gal \n",
    "    num_photoz= np.zeros(len(Train_sample))\n",
    "\n",
    "    #Query the indicies of the points that lie within a distance of the point given \n",
    "    for i in range(len(Train_sample)):\n",
    "        num_photoz[i]= len(tree_NN_lookup.query_ball_point(Train_sample[i], d_dist[i]+0.00000100))\n",
    "        \n",
    "    return num_photoz"
   ]
  },
  {
   "cell_type": "code",
   "execution_count": 17,
   "metadata": {},
   "outputs": [],
   "source": [
    "num_photoz_bin1= photoz_within_dist(Photoz_bin1, Train_sample, d_dist)\n",
    "num_photoz_bin2= photoz_within_dist(Photoz_bin2, Train_sample, d_dist)\n",
    "num_photoz_bin3= photoz_within_dist(Photoz_bin3, Train_sample, d_dist)\n",
    "num_photoz_bin4= photoz_within_dist(Photoz_bin4, Train_sample, d_dist)"
   ]
  },
  {
   "cell_type": "code",
   "execution_count": 18,
   "metadata": {},
   "outputs": [],
   "source": [
    "def make_weights(Train_sample, num_photoz, N_nei, N_photo_tot):\n",
    "    \n",
    "    #Make a corresponding array of the weights for each of the training galaxies\n",
    "    weights= np.zeros(len(Train_sample))\n",
    "\n",
    "    #Make the weights\n",
    "    weights = np.true_divide(num_photoz,N_nei*N_photo_tot)\n",
    "    return weights"
   ]
  },
  {
   "cell_type": "code",
   "execution_count": 19,
   "metadata": {},
   "outputs": [],
   "source": [
    "weights_bin1 = make_weights(Train_sample,num_photoz_bin1, N_nei, N_photo_tot_bin1)\n",
    "weights_tot_bin1= np.sum(weights_bin1)  #Sum weights over all training galaxies\n",
    "\n",
    "weights_bin2 = make_weights(Train_sample,num_photoz_bin2, N_nei, N_photo_tot_bin2)\n",
    "weights_tot_bin2= np.sum(weights_bin2)  \n",
    "\n",
    "weights_bin3 = make_weights(Train_sample,num_photoz_bin3, N_nei, N_photo_tot_bin3)\n",
    "weights_tot_bin3= np.sum(weights_bin3) \n",
    "\n",
    "weights_bin4 = make_weights(Train_sample,num_photoz_bin4, N_nei, N_photo_tot_bin4)\n",
    "weights_tot_bin4= np.sum(weights_bin4) "
   ]
  },
  {
   "cell_type": "code",
   "execution_count": 20,
   "metadata": {},
   "outputs": [],
   "source": [
    "def weights_per_bin(num_bin, Train_sample, Train_z, bins, weights):\n",
    "    \n",
    "    #Weights per redshift bin  \n",
    "    weights_bin= np.zeros(num_bin)\n",
    "\n",
    "    for j in range(num_bin):\n",
    "        for i in range(len(Train_sample)):\n",
    "            if Train_z[i]>bins[j] and Train_z[i]<=bins[j+1]:\n",
    "                weights_bin[j]+=weights[i]\n",
    "                \n",
    "    return weights_bin"
   ]
  },
  {
   "cell_type": "code",
   "execution_count": 21,
   "metadata": {},
   "outputs": [],
   "source": [
    "weights_per_bin_bin1= weights_per_bin(num_bin, Train_sample, Train_z, bins,weights_bin1)\n",
    "weights_per_bin_bin2= weights_per_bin(num_bin, Train_sample, Train_z, bins,weights_bin2)\n",
    "weights_per_bin_bin3= weights_per_bin(num_bin, Train_sample, Train_z, bins,weights_bin3)\n",
    "weights_per_bin_bin4= weights_per_bin(num_bin, Train_sample, Train_z, bins,weights_bin4)"
   ]
  },
  {
   "cell_type": "markdown",
   "metadata": {},
   "source": [
    "## Find the estimated photo-z N(z)"
   ]
  },
  {
   "cell_type": "code",
   "execution_count": 22,
   "metadata": {},
   "outputs": [],
   "source": [
    "def Nz(weights_per_bin, weights_tot, N_photo_tot):\n",
    "    P_T_z_delta_z =  np.true_divide(weights_per_bin, weights_tot)\n",
    "    N_p_est = P_T_z_delta_z*N_photo_tot\n",
    "    return N_p_est"
   ]
  },
  {
   "cell_type": "code",
   "execution_count": 23,
   "metadata": {},
   "outputs": [],
   "source": [
    "N_p_est_bin1= Nz(weights_per_bin_bin1, weights_tot_bin1, N_photo_tot_bin1)\n",
    "N_p_est_bin2= Nz(weights_per_bin_bin2, weights_tot_bin2, N_photo_tot_bin2)\n",
    "N_p_est_bin3= Nz(weights_per_bin_bin3, weights_tot_bin3, N_photo_tot_bin3)\n",
    "N_p_est_bin4= Nz(weights_per_bin_bin4, weights_tot_bin4, N_photo_tot_bin4)"
   ]
  },
  {
   "cell_type": "markdown",
   "metadata": {},
   "source": [
    "## Plot N(z) in each redshift bin"
   ]
  },
  {
   "cell_type": "code",
   "execution_count": 24,
   "metadata": {},
   "outputs": [
    {
     "data": {
      "text/plain": [
       "<matplotlib.legend.Legend at 0x2aef524fbba8>"
      ]
     },
     "execution_count": 24,
     "metadata": {},
     "output_type": "execute_result"
    },
    {
     "data": {
      "image/png": "[encoded data removed]",
      "text/plain": [
       "<Figure size 432x288 with 1 Axes>"
      ]
     },
     "metadata": {},
     "output_type": "display_data"
    }
   ],
   "source": [
    "#Bin 1\n",
    "plt.bar(bins[:-1],N_p_est_bin1, width= 0.04, align='edge', alpha=0.5, label= '$0.15< z_{best}\\leq 0.5$')\n",
    "plt.xlabel('Redshift, z')\n",
    "plt.ylabel('N(z)')\n",
    "\n",
    "plt.axvline(x=0.15, ls='dashed', color='g')\n",
    "plt.axvline(x=0.5, ls='dashed', color='g')\n",
    "\n",
    "plt.legend()"
   ]
  },
  {
   "cell_type": "code",
   "execution_count": 25,
   "metadata": {},
   "outputs": [
    {
     "data": {
      "text/plain": [
       "<matplotlib.legend.Legend at 0x2aef527636a0>"
      ]
     },
     "execution_count": 25,
     "metadata": {},
     "output_type": "execute_result"
    },
    {
     "data": {
      "image/png": "[encoded data removed]",
      "text/plain": [
       "<Figure size 432x288 with 1 Axes>"
      ]
     },
     "metadata": {},
     "output_type": "display_data"
    }
   ],
   "source": [
    "#Bin 2\n",
    "plt.bar(bins[:-1],N_p_est_bin2, width= 0.04, align='edge',alpha=0.5,label= '$0.5< z_{best}\\leq 0.75$')\n",
    "plt.xlabel('Redshift, z')\n",
    "plt.ylabel('N(z)')\n",
    "\n",
    "plt.axvline(x=0.5, ls='dashed', color='g')\n",
    "plt.axvline(x=0.75, ls='dashed', color='g')\n",
    "plt.legend()"
   ]
  },
  {
   "cell_type": "code",
   "execution_count": 26,
   "metadata": {},
   "outputs": [
    {
     "data": {
      "text/plain": [
       "<matplotlib.legend.Legend at 0x2aef52963748>"
      ]
     },
     "execution_count": 26,
     "metadata": {},
     "output_type": "execute_result"
    },
    {
     "data": {
      "image/png": "[encoded data removed]",
      "text/plain": [
       "<Figure size 432x288 with 1 Axes>"
      ]
     },
     "metadata": {},
     "output_type": "display_data"
    }
   ],
   "source": [
    "#Bin 3\n",
    "plt.bar(bins[:-1],N_p_est_bin3, width= 0.04, align='edge',alpha=0.5,label='$0.75< z_{best}\\leq 1.0$')\n",
    "plt.xlabel('Redshift, z')\n",
    "plt.ylabel('N(z)')\n",
    "\n",
    "plt.axvline(x=0.75, ls='dashed', color='g')\n",
    "plt.axvline(x=1.0, ls='dashed', color='g')\n",
    "plt.legend()"
   ]
  },
  {
   "cell_type": "code",
   "execution_count": 27,
   "metadata": {},
   "outputs": [
    {
     "data": {
      "text/plain": [
       "<matplotlib.legend.Legend at 0x2aef3975ac18>"
      ]
     },
     "execution_count": 27,
     "metadata": {},
     "output_type": "execute_result"
    },
    {
     "data": {
      "image/png": "[encoded data removed]",
      "text/plain": [
       "<Figure size 432x288 with 1 Axes>"
      ]
     },
     "metadata": {},
     "output_type": "display_data"
    }
   ],
   "source": [
    "#Bin 4\n",
    "plt.bar(bins[:-1],N_p_est_bin4, width= 0.04, align='edge',alpha=0.5,label='$1.0< z_{best}\\leq 1.5$' )\n",
    "plt.xlabel('Redshift, z')\n",
    "plt.ylabel('N(z)')\n",
    "\n",
    "plt.axvline(x=1.0, ls='dashed', color='g')\n",
    "plt.axvline(x=1.5, ls='dashed', color='g')\n",
    "plt.legend()"
   ]
  },
  {
   "cell_type": "code",
   "execution_count": 28,
   "metadata": {},
   "outputs": [
    {
     "data": {
      "text/plain": [
       "<matplotlib.legend.Legend at 0x2aef399490f0>"
      ]
     },
     "execution_count": 28,
     "metadata": {},
     "output_type": "execute_result"
    },
    {
     "data": {
      "image/png": "[encoded data removed]",
      "text/plain": [
       "<Figure size 432x288 with 1 Axes>"
      ]
     },
     "metadata": {},
     "output_type": "display_data"
    }
   ],
   "source": [
    "plt.bar(bins[:-1],N_p_est_bin1, width= 0.04,align='edge', alpha=0.3, label='0.15-0.5')\n",
    "\n",
    "plt.bar(bins[:-1],N_p_est_bin2, width= 0.04, color= 'g',align='edge',alpha=0.3, label= '0.5-0.75')\n",
    "\n",
    "plt.bar(bins[:-1],N_p_est_bin3, width= 0.04, color= 'm', align='edge',alpha=0.3,label= '0.75-1.0')\n",
    "\n",
    "plt.bar(bins[:-1],N_p_est_bin4, width= 0.04, color='r', align='edge',alpha=0.3,label= '1.0-1.5')\n",
    "plt.xlabel('Redshift, z')\n",
    "plt.ylabel('N(z)')\n",
    "\n",
    "plt.legend()"
   ]
  },
  {
   "cell_type": "code",
   "execution_count": null,
   "metadata": {},
   "outputs": [],
   "source": []
  }
 ],
 "metadata": {
  "kernelspec": {
   "display_name": "Python [default]",
   "language": "python",
   "name": "python3"
  },
  "language_info": {
   "codemirror_mode": {
    "name": "ipython",
    "version": 3
   },
   "file_extension": ".py",
   "mimetype": "text/x-python",
   "name": "python",
   "nbconvert_exporter": "python",
   "pygments_lexer": "ipython3",
   "version": "3.6.5"
  }
 },
 "nbformat": 4,
 "nbformat_minor": 2
}

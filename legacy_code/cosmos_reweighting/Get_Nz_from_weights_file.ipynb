{
 "cells": [
  {
   "cell_type": "code",
   "execution_count": 1,
   "metadata": {},
   "outputs": [],
   "source": [
    "#Imports\n",
    "%matplotlib inline\n",
    "import pandas as pd\n",
    "import numpy as np\n",
    "import matplotlib.pyplot as plt \n",
    "import random\n",
    "from astropy.io import fits\n",
    "from astropy.coordinates import SkyCoord\n",
    "import astropy.units as u\n",
    "from astropy.table import Table, hstack\n",
    "from scipy.optimize import curve_fit\n",
    "from sympy import *\n",
    "import math\n",
    "from mpmath import *\n",
    "from pandas.compat import StringIO\n",
    "from numpy.linalg import inv\n",
    "from scipy import linalg\n",
    "from scipy import interpolate\n",
    "from scipy import integrate\n",
    "from scipy.integrate import quad\n",
    "from sklearn.neighbors import NearestNeighbors\n",
    "from sklearn.neighbors import KDTree\n",
    "import scipy.spatial as spatial"
   ]
  },
  {
   "cell_type": "markdown",
   "metadata": {},
   "source": [
    "### Input weights file\n",
    "This file also has COSMOS photo-zs, HSC photo-z's, positions and  hsc magnitudes). \n",
    "Note: these weights were found based on the density of the whole HSC sample in the COSMOS field"
   ]
  },
  {
   "cell_type": "code",
   "execution_count": 2,
   "metadata": {},
   "outputs": [],
   "source": [
    "#The COSMOS 30-band data matched to some of the HSC data in the COSMOS field\n",
    "weights_path= '../../../cosmos_hsc_weights.fits'\n",
    "hdulist = fits.open(weights_path)\n",
    "weights_data = hdulist[1].data\n",
    "weights_columns= hdulist[1].columns"
   ]
  },
  {
   "cell_type": "code",
   "execution_count": 3,
   "metadata": {},
   "outputs": [],
   "source": [
    "weights= weights_data['weight']\n",
    "hsc_z= weights_data['hsc_pz_best_eab']\n",
    "COSMOS_z= weights_data['cosmos_photoz']"
   ]
  },
  {
   "cell_type": "code",
   "execution_count": 12,
   "metadata": {},
   "outputs": [],
   "source": [
    "#Input the number of galaxies in the whole HSC field\n",
    "N_photo_tot = 537547\n",
    "\n",
    "#Input redshift bin info - weights will be summed in each redshift bin\n",
    "num_bin= 100\n",
    "bins= np.linspace(0, 4.0, num=100, endpoint=False)\n",
    "bins=np.append(bins,4)"
   ]
  },
  {
   "cell_type": "code",
   "execution_count": 13,
   "metadata": {},
   "outputs": [],
   "source": [
    "weights_tot= np.sum(weights)  #Sum weights over all matched COSMOS galaxies"
   ]
  },
  {
   "cell_type": "markdown",
   "metadata": {},
   "source": [
    "### N(z) with whole galaxy sample"
   ]
  },
  {
   "cell_type": "code",
   "execution_count": 14,
   "metadata": {},
   "outputs": [],
   "source": [
    "def weights_per_bin(num_bin,COSMOS_z, bins, weights):\n",
    "    \n",
    "    #Weights per redshift bin  \n",
    "    weights_bin= np.zeros(num_bin)\n",
    "\n",
    "    for j in range(num_bin):\n",
    "        for i in range(len(COSMOS_z)):\n",
    "            if COSMOS_z[i]>bins[j] and COSMOS_z[i]<=bins[j+1]:\n",
    "                weights_bin[j]+=weights[i]\n",
    "                \n",
    "    return weights_bin"
   ]
  },
  {
   "cell_type": "code",
   "execution_count": 15,
   "metadata": {},
   "outputs": [],
   "source": [
    "weights_bin= weights_per_bin(num_bin, COSMOS_z, bins, weights)"
   ]
  },
  {
   "cell_type": "code",
   "execution_count": 16,
   "metadata": {},
   "outputs": [],
   "source": [
    "def Nz(weights_bin, weights_tot, N_photo_tot):\n",
    "    P_T_z_delta_z =  np.true_divide(weights_bin, weights_tot)\n",
    "    N_p_est = P_T_z_delta_z*N_photo_tot\n",
    "    return N_p_est"
   ]
  },
  {
   "cell_type": "code",
   "execution_count": 17,
   "metadata": {},
   "outputs": [],
   "source": [
    "N_p_est= Nz(weights_bin, weights_tot, N_photo_tot)"
   ]
  },
  {
   "cell_type": "code",
   "execution_count": 19,
   "metadata": {},
   "outputs": [
    {
     "data": {
      "text/plain": [
       "Text(0,0.5,'N(z)')"
      ]
     },
     "execution_count": 19,
     "metadata": {},
     "output_type": "execute_result"
    },
    {
     "data": {
      "image/png": "[encoded data removed]",
      "text/plain": [
       "<Figure size 432x288 with 1 Axes>"
      ]
     },
     "metadata": {
      "needs_background": "light"
     },
     "output_type": "display_data"
    }
   ],
   "source": [
    "# Nnei= 20\n",
    "plt.bar(bins[:-1],N_p_est, width= 0.04, align='edge')\n",
    "plt.xlabel('Redshift, z')\n",
    "plt.ylabel('N(z)')\n"
   ]
  },
  {
   "cell_type": "markdown",
   "metadata": {},
   "source": [
    "### Redshift bins N(z)s"
   ]
  },
  {
   "cell_type": "code",
   "execution_count": 20,
   "metadata": {},
   "outputs": [],
   "source": [
    "def form_z_bins(weights_data):\n",
    "    weights_bin1= weights_data[(weights_data['hsc_pz_best_eab']>0.15) & (weights_data['hsc_pz_best_eab']<=0.5)]\n",
    "    weights_bin2= weights_data[(weights_data['hsc_pz_best_eab']>0.5) & (weights_data['hsc_pz_best_eab']<=0.75)]\n",
    "    weights_bin3= weights_data[(weights_data['hsc_pz_best_eab']>0.75) & (weights_data['hsc_pz_best_eab']<=1.0)]\n",
    "    weights_bin4= weights_data[(weights_data['hsc_pz_best_eab']>1.0) & (weights_data['hsc_pz_best_eab']<=1.5)]\n",
    "    \n",
    "    return weights_bin1, weights_bin2, weights_bin3, weights_bin4"
   ]
  },
  {
   "cell_type": "code",
   "execution_count": 21,
   "metadata": {},
   "outputs": [],
   "source": [
    "weights_bin1, weights_bin2, weights_bin3, weights_bin4 = form_z_bins(weights_data)"
   ]
  },
  {
   "cell_type": "code",
   "execution_count": 22,
   "metadata": {},
   "outputs": [],
   "source": [
    "weights_per_bin_bin1= weights_per_bin(num_bin,weights_bin1['cosmos_photoz'], bins, weights_bin1['weight'])\n",
    "weights_per_bin_bin2= weights_per_bin(num_bin,weights_bin2['cosmos_photoz'], bins, weights_bin2['weight'])\n",
    "weights_per_bin_bin3= weights_per_bin(num_bin,weights_bin3['cosmos_photoz'],bins, weights_bin3['weight'])\n",
    "weights_per_bin_bin4= weights_per_bin(num_bin,weights_bin4['cosmos_photoz'], bins, weights_bin4['weight'])"
   ]
  },
  {
   "cell_type": "code",
   "execution_count": 23,
   "metadata": {},
   "outputs": [],
   "source": [
    "N_p_est_bin1= Nz(weights_per_bin_bin1, weights_tot, N_photo_tot)\n",
    "N_p_est_bin2= Nz(weights_per_bin_bin2, weights_tot, N_photo_tot)\n",
    "N_p_est_bin3= Nz(weights_per_bin_bin3, weights_tot, N_photo_tot)\n",
    "N_p_est_bin4= Nz(weights_per_bin_bin4, weights_tot, N_photo_tot)"
   ]
  },
  {
   "cell_type": "code",
   "execution_count": 26,
   "metadata": {},
   "outputs": [
    {
     "data": {
      "text/plain": [
       "<matplotlib.legend.Legend at 0x2ace15168f60>"
      ]
     },
     "execution_count": 26,
     "metadata": {},
     "output_type": "execute_result"
    },
    {
     "data": {
      "image/png": "[encoded data removed]",
      "text/plain": [
       "<Figure size 432x288 with 1 Axes>"
      ]
     },
     "metadata": {
      "needs_background": "light"
     },
     "output_type": "display_data"
    }
   ],
   "source": [
    "#Bin 1\n",
    "plt.bar(bins[:-1],N_p_est_bin1, width= 0.04, align='edge', alpha=0.5, label= '$0.15< z_{best}\\leq 0.5$')\n",
    "plt.xlabel('Redshift, z')\n",
    "plt.ylabel('N(z)')\n",
    "\n",
    "plt.axvline(x=0.15, ls='dashed', color='g')\n",
    "plt.axvline(x=0.5, ls='dashed', color='g')\n",
    "\n",
    "plt.legend()"
   ]
  },
  {
   "cell_type": "code",
   "execution_count": 27,
   "metadata": {},
   "outputs": [
    {
     "data": {
      "text/plain": [
       "<matplotlib.legend.Legend at 0x2ace15280c88>"
      ]
     },
     "execution_count": 27,
     "metadata": {},
     "output_type": "execute_result"
    },
    {
     "data": {
      "image/png": "[encoded data removed]",
      "text/plain": [
       "<Figure size 432x288 with 1 Axes>"
      ]
     },
     "metadata": {
      "needs_background": "light"
     },
     "output_type": "display_data"
    }
   ],
   "source": [
    "#Bin 2\n",
    "plt.bar(bins[:-1],N_p_est_bin2, width= 0.04, align='edge',alpha=0.5,label= '$0.5< z_{best}\\leq 0.75$')\n",
    "plt.xlabel('Redshift, z')\n",
    "plt.ylabel('N(z)')\n",
    "\n",
    "plt.axvline(x=0.5, ls='dashed', color='g')\n",
    "plt.axvline(x=0.75, ls='dashed', color='g')\n",
    "plt.legend()"
   ]
  },
  {
   "cell_type": "code",
   "execution_count": 28,
   "metadata": {},
   "outputs": [
    {
     "data": {
      "text/plain": [
       "<matplotlib.legend.Legend at 0x2ace153d8c88>"
      ]
     },
     "execution_count": 28,
     "metadata": {},
     "output_type": "execute_result"
    },
    {
     "data": {
      "image/png": "[encoded data removed]",
      "text/plain": [
       "<Figure size 432x288 with 1 Axes>"
      ]
     },
     "metadata": {
      "needs_background": "light"
     },
     "output_type": "display_data"
    }
   ],
   "source": [
    "#Bin 3\n",
    "plt.bar(bins[:-1],N_p_est_bin3, width= 0.04, align='edge',alpha=0.5,label='$0.75< z_{best}\\leq 1.0$')\n",
    "plt.xlabel('Redshift, z')\n",
    "plt.ylabel('N(z)')\n",
    "\n",
    "plt.axvline(x=0.75, ls='dashed', color='g')\n",
    "plt.axvline(x=1.0, ls='dashed', color='g')\n",
    "plt.legend()"
   ]
  },
  {
   "cell_type": "code",
   "execution_count": 29,
   "metadata": {},
   "outputs": [
    {
     "data": {
      "text/plain": [
       "<matplotlib.legend.Legend at 0x2ace15537780>"
      ]
     },
     "execution_count": 29,
     "metadata": {},
     "output_type": "execute_result"
    },
    {
     "data": {
      "image/png": "[encoded data removed]",
      "text/plain": [
       "<Figure size 432x288 with 1 Axes>"
      ]
     },
     "metadata": {
      "needs_background": "light"
     },
     "output_type": "display_data"
    }
   ],
   "source": [
    "#Bin 4\n",
    "plt.bar(bins[:-1],N_p_est_bin4, width= 0.04, align='edge',alpha=0.5,label='$1.0< z_{best}\\leq 1.5$' )\n",
    "plt.xlabel('Redshift, z')\n",
    "plt.ylabel('N(z)')\n",
    "\n",
    "plt.axvline(x=1.0, ls='dashed', color='g')\n",
    "plt.axvline(x=1.5, ls='dashed', color='g')\n",
    "plt.legend()"
   ]
  },
  {
   "cell_type": "code",
   "execution_count": 30,
   "metadata": {},
   "outputs": [
    {
     "data": {
      "text/plain": [
       "<matplotlib.legend.Legend at 0x2ace156890b8>"
      ]
     },
     "execution_count": 30,
     "metadata": {},
     "output_type": "execute_result"
    },
    {
     "data": {
      "image/png": "[encoded data removed]",
      "text/plain": [
       "<Figure size 432x288 with 1 Axes>"
      ]
     },
     "metadata": {
      "needs_background": "light"
     },
     "output_type": "display_data"
    }
   ],
   "source": [
    "plt.bar(bins[:-1],N_p_est_bin1, width= 0.04,align='edge', alpha=0.3, label='0.15-0.5')\n",
    "\n",
    "plt.bar(bins[:-1],N_p_est_bin2, width= 0.04, color= 'g',align='edge',alpha=0.3, label= '0.5-0.75')\n",
    "\n",
    "plt.bar(bins[:-1],N_p_est_bin3, width= 0.04, color= 'm', align='edge',alpha=0.3,label= '0.75-1.0')\n",
    "\n",
    "plt.bar(bins[:-1],N_p_est_bin4, width= 0.04, color='r', align='edge',alpha=0.3,label= '1.0-1.5')\n",
    "plt.xlabel('Redshift, z')\n",
    "plt.ylabel('N(z)')\n",
    "\n",
    "plt.legend()"
   ]
  },
  {
   "cell_type": "code",
   "execution_count": null,
   "metadata": {},
   "outputs": [],
   "source": []
  }
 ],
 "metadata": {
  "kernelspec": {
   "display_name": "Python [default]",
   "language": "python",
   "name": "python3"
  },
  "language_info": {
   "codemirror_mode": {
    "name": "ipython",
    "version": 3
   },
   "file_extension": ".py",
   "mimetype": "text/x-python",
   "name": "python",
   "nbconvert_exporter": "python",
   "pygments_lexer": "ipython3",
   "version": "3.6.5"
  }
 },
 "nbformat": 4,
 "nbformat_minor": 2
}
